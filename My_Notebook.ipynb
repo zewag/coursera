{
 "cells": [
  {
   "cell_type": "markdown",
   "id": "6da7946d-4bd0-46a8-993d-2fa1d67e1b35",
   "metadata": {
    "tags": []
   },
   "source": [
    "# My Jupyter Notebook on IBM Watson Studio"
   ]
  },
  {
   "cell_type": "markdown",
   "id": "f1f942a5-ddff-49dd-88c7-35bdef021696",
   "metadata": {},
   "source": [
    "**Philipp Sobotta**"
   ]
  },
  {
   "cell_type": "markdown",
   "id": "6bd0caef-cb2e-40d2-bcde-3a0643e47a56",
   "metadata": {},
   "source": [
    "Administrator"
   ]
  },
  {
   "cell_type": "markdown",
   "id": "5c3f364e-bac0-4e6e-8c7c-47add57aaa47",
   "metadata": {},
   "source": [
    "*I am interested in data science because I like statistic.*"
   ]
  },
  {
   "cell_type": "markdown",
   "id": "fb5894dd-0aaf-4f21-b846-e8c3fbd97db1",
   "metadata": {},
   "source": [
    "### The following Code subtracts a number from another number"
   ]
  },
  {
   "cell_type": "code",
   "execution_count": 1,
   "id": "48cfe89d-70d3-4322-9559-737794bae10d",
   "metadata": {
    "tags": []
   },
   "outputs": [
    {
     "name": "stdout",
     "output_type": "stream",
     "text": [
      "19\n"
     ]
    }
   ],
   "source": [
    "a=27-8\n",
    "print(a)"
   ]
  },
  {
   "cell_type": "markdown",
   "id": "cc2723ee-3007-4d54-ab19-5cfe64ccca0f",
   "metadata": {},
   "source": [
    "<a href=\"https://dataplatform.cloud.ibm.com/gallery\">IBM Cloud Gallery</a>\n",
    "1. one\n",
    "2. two\n",
    "| header | header |\n",
    "| ------ | ------ |\n",
    "| cell | cell |"
   ]
  }
 ],
 "metadata": {
  "kernelspec": {
   "display_name": "Python",
   "language": "python",
   "name": "conda-env-python-py"
  },
  "language_info": {
   "codemirror_mode": {
    "name": "ipython",
    "version": 3
   },
   "file_extension": ".py",
   "mimetype": "text/x-python",
   "name": "python",
   "nbconvert_exporter": "python",
   "pygments_lexer": "ipython3",
   "version": "3.7.12"
  }
 },
 "nbformat": 4,
 "nbformat_minor": 5
}
